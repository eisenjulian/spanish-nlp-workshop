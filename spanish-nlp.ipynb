{
 "cells": [
  {
   "cell_type": "markdown",
   "metadata": {},
   "source": [
    "# Introduction to Spanish NLP Workshop\n",
    "First let's load [spacy](https://spacy.io) and a Spanish parsing model, this may take a while"
   ]
  },
  {
   "cell_type": "code",
   "execution_count": 8,
   "metadata": {
    "collapsed": false
   },
   "outputs": [],
   "source": [
    "import spacy\n",
    "import pandas as pd\n",
    "import numpy as np\n",
    "import matplotlib.pyplot as plt\n",
    "import sys\n",
    "import codecs\n",
    "import math\n",
    "\n",
    "from sklearn.decomposition import TruncatedSVD\n",
    "from sklearn.feature_extraction.text import TfidfVectorizer\n",
    "from sklearn.manifold import TSNE\n",
    "from gensim.models import KeyedVectors\n",
    "\n",
    "# Display plots in this notebook, instead of externally. \n",
    "from pylab import rcParams\n",
    "rcParams['figure.figsize'] = 16, 8\n",
    "%matplotlib inline\n",
    "nlp = spacy.load('es')"
   ]
  },
  {
   "cell_type": "markdown",
   "metadata": {},
   "source": [
    "### Tokenization and POS Tagging\n",
    "Now we can a pick a sentence and analyze it. A sentence is split into **tokens** (units of meaning: could be more than one word in some cases) and we can get the syntactic function of each one. This is called **POS** (Part of Speech) tagging"
   ]
  },
  {
   "cell_type": "code",
   "execution_count": 9,
   "metadata": {
    "collapsed": false,
    "scrolled": true
   },
   "outputs": [
    {
     "data": {
      "text/html": [
       "<div>\n",
       "<style>\n",
       "    .dataframe thead tr:only-child th {\n",
       "        text-align: right;\n",
       "    }\n",
       "\n",
       "    .dataframe thead th {\n",
       "        text-align: left;\n",
       "    }\n",
       "\n",
       "    .dataframe tbody tr th {\n",
       "        vertical-align: top;\n",
       "    }\n",
       "</style>\n",
       "<table border=\"1\" class=\"dataframe\">\n",
       "  <thead>\n",
       "    <tr style=\"text-align: right;\">\n",
       "      <th></th>\n",
       "      <th>Token</th>\n",
       "      <th>TAG</th>\n",
       "      <th>POS</th>\n",
       "    </tr>\n",
       "  </thead>\n",
       "  <tbody>\n",
       "    <tr>\n",
       "      <th>0</th>\n",
       "      <td>Las</td>\n",
       "      <td>DET__Gender=Fem|Number=Plur|PronType=Art</td>\n",
       "      <td>DET</td>\n",
       "    </tr>\n",
       "    <tr>\n",
       "      <th>1</th>\n",
       "      <td>naranjas</td>\n",
       "      <td>NOUN__Gender=Fem|Number=Plur</td>\n",
       "      <td>NOUN</td>\n",
       "    </tr>\n",
       "    <tr>\n",
       "      <th>2</th>\n",
       "      <td>y</td>\n",
       "      <td>CCONJ___</td>\n",
       "      <td>CONJ</td>\n",
       "    </tr>\n",
       "    <tr>\n",
       "      <th>3</th>\n",
       "      <td>las</td>\n",
       "      <td>DET__Definite=Def|Gender=Fem|Number=Plur|PronT...</td>\n",
       "      <td>DET</td>\n",
       "    </tr>\n",
       "    <tr>\n",
       "      <th>4</th>\n",
       "      <td>manzanas</td>\n",
       "      <td>NOUN__Gender=Fem|Number=Plur</td>\n",
       "      <td>NOUN</td>\n",
       "    </tr>\n",
       "    <tr>\n",
       "      <th>5</th>\n",
       "      <td>se</td>\n",
       "      <td>PRON__Person=3</td>\n",
       "      <td>PRON</td>\n",
       "    </tr>\n",
       "    <tr>\n",
       "      <th>6</th>\n",
       "      <td>parecen</td>\n",
       "      <td>VERB__Mood=Ind|Number=Plur|Person=3|Tense=Pres...</td>\n",
       "      <td>VERB</td>\n",
       "    </tr>\n",
       "  </tbody>\n",
       "</table>\n",
       "</div>"
      ],
      "text/plain": [
       "      Token                                                TAG   POS\n",
       "0       Las           DET__Gender=Fem|Number=Plur|PronType=Art   DET\n",
       "1  naranjas                       NOUN__Gender=Fem|Number=Plur  NOUN\n",
       "2         y                                           CCONJ___  CONJ\n",
       "3       las  DET__Definite=Def|Gender=Fem|Number=Plur|PronT...   DET\n",
       "4  manzanas                       NOUN__Gender=Fem|Number=Plur  NOUN\n",
       "5        se                                     PRON__Person=3  PRON\n",
       "6   parecen  VERB__Mood=Ind|Number=Plur|Person=3|Tense=Pres...  VERB"
      ]
     },
     "execution_count": 9,
     "metadata": {},
     "output_type": "execute_result"
    }
   ],
   "source": [
    "doc = nlp('Las naranjas y las manzanas se parecen')\n",
    "pd.DataFrame([[word.text, word.tag_, word.pos_] for word in doc], columns=['Token', 'TAG', 'POS'])"
   ]
  },
  {
   "cell_type": "markdown",
   "metadata": {
    "collapsed": false
   },
   "source": [
    "### Language Models\n",
    "Anothe key concept in NLP is that of **Language Models**. It is a function that is able to tell us the likelihood of a sentence of appearing in the real word. One such model, albeit a very simple one, is the one that multiplies the probabilities of every token in the sentence"
   ]
  },
  {
   "cell_type": "code",
   "execution_count": 17,
   "metadata": {
    "collapsed": false
   },
   "outputs": [
    {
     "data": {
      "text/html": [
       "<div>\n",
       "<style>\n",
       "    .dataframe thead tr:only-child th {\n",
       "        text-align: right;\n",
       "    }\n",
       "\n",
       "    .dataframe thead th {\n",
       "        text-align: left;\n",
       "    }\n",
       "\n",
       "    .dataframe tbody tr th {\n",
       "        vertical-align: top;\n",
       "    }\n",
       "</style>\n",
       "<table border=\"1\" class=\"dataframe\">\n",
       "  <thead>\n",
       "    <tr style=\"text-align: right;\">\n",
       "      <th></th>\n",
       "      <th>Token</th>\n",
       "      <th>Prob</th>\n",
       "      <th>Log Prob</th>\n",
       "    </tr>\n",
       "  </thead>\n",
       "  <tbody>\n",
       "    <tr>\n",
       "      <th>0</th>\n",
       "      <td>Las</td>\n",
       "      <td>0.000644</td>\n",
       "      <td>-7.347541</td>\n",
       "    </tr>\n",
       "    <tr>\n",
       "      <th>1</th>\n",
       "      <td>naranjas</td>\n",
       "      <td>0.000004</td>\n",
       "      <td>-12.366278</td>\n",
       "    </tr>\n",
       "    <tr>\n",
       "      <th>2</th>\n",
       "      <td>y</td>\n",
       "      <td>0.020835</td>\n",
       "      <td>-3.871129</td>\n",
       "    </tr>\n",
       "    <tr>\n",
       "      <th>3</th>\n",
       "      <td>las</td>\n",
       "      <td>0.007129</td>\n",
       "      <td>-4.943562</td>\n",
       "    </tr>\n",
       "    <tr>\n",
       "      <th>4</th>\n",
       "      <td>manzanas</td>\n",
       "      <td>0.000006</td>\n",
       "      <td>-12.064260</td>\n",
       "    </tr>\n",
       "    <tr>\n",
       "      <th>5</th>\n",
       "      <td>se</td>\n",
       "      <td>0.007493</td>\n",
       "      <td>-4.893838</td>\n",
       "    </tr>\n",
       "    <tr>\n",
       "      <th>6</th>\n",
       "      <td>parecen</td>\n",
       "      <td>0.000036</td>\n",
       "      <td>-10.242378</td>\n",
       "    </tr>\n",
       "  </tbody>\n",
       "</table>\n",
       "</div>"
      ],
      "text/plain": [
       "      Token      Prob   Log Prob\n",
       "0       Las  0.000644  -7.347541\n",
       "1  naranjas  0.000004 -12.366278\n",
       "2         y  0.020835  -3.871129\n",
       "3       las  0.007129  -4.943562\n",
       "4  manzanas  0.000006 -12.064260\n",
       "5        se  0.007493  -4.893838\n",
       "6   parecen  0.000036 -10.242378"
      ]
     },
     "execution_count": 17,
     "metadata": {},
     "output_type": "execute_result"
    }
   ],
   "source": [
    "pd.DataFrame([[word.text, math.exp(word.prob), word.prob] for word in doc], columns=['Token', 'Prob', 'Log Prob'])"
   ]
  },
  {
   "cell_type": "markdown",
   "metadata": {},
   "source": [
    "### Names Entity Recognition\n",
    "We are also interested in extracting the proper entities that appear in a phrase and this problem is referred as **Named Entity Recognition** or **NER**. Here's and example with different kinds of entities such as *people* and *locations*"
   ]
  },
  {
   "cell_type": "code",
   "execution_count": 23,
   "metadata": {
    "collapsed": false
   },
   "outputs": [
    {
     "name": "stdout",
     "output_type": "stream",
     "text": [
      "Angela Merkel \t PERSON\n",
      "Buenos Aires \t LOC\n"
     ]
    }
   ],
   "source": [
    "doc2 = nlp(u\"La premier alemana Angela Merkel visitó Buenos Aires esta semana\")\n",
    "for ent in doc2.ents:\n",
    "    print('{} \\t {}'.format(ent, ent.label_))"
   ]
  },
  {
   "cell_type": "markdown",
   "metadata": {},
   "source": [
    "### Word Embeddings\n",
    "\n",
    "Embeddings are the silver bullet brought from the world of deep learning into the realm of NLP through the **word2vec** algorithm. They are a meaningful\n",
    "representation of tokens as a dense high dimensional vector. They can be obtained from large unlabelled **corpora** easily available\n",
    "on the web and are able to express the sintactic, semantic, morpholical and even polysemic richness of a word in a way that \n",
    "a computer can understand"
   ]
  },
  {
   "cell_type": "code",
   "execution_count": 37,
   "metadata": {
    "collapsed": false
   },
   "outputs": [
    {
     "data": {
      "text/plain": [
       "0.83445842963978367"
      ]
     },
     "execution_count": 37,
     "metadata": {},
     "output_type": "execute_result"
    }
   ],
   "source": [
    "orange = doc[1]\n",
    "apple = doc[4]\n",
    "orange.similarity(apple)"
   ]
  },
  {
   "cell_type": "markdown",
   "metadata": {},
   "source": [
    "One amazing property of word vectors is that they represent analogies really well, for instance:\n",
    " \n",
    " * Argentina - Macri = Alemania - Merkel\n",
    " * Reina - Mujer = Rey - Hombre\n",
    " \n",
    "We can also average out the vectors in a whole sentence to get a similarity between them. NLP methods that disregard the word order such as this one are commonly referred as **Bag of Words**"
   ]
  },
  {
   "cell_type": "code",
   "execution_count": 40,
   "metadata": {
    "collapsed": false
   },
   "outputs": [
    {
     "data": {
      "text/plain": [
       "0.82128151045732101"
      ]
     },
     "execution_count": 40,
     "metadata": {},
     "output_type": "execute_result"
    }
   ],
   "source": [
    "doc.similarity(doc2)"
   ]
  }
 ],
 "metadata": {
  "kernelspec": {
   "display_name": "Python 3",
   "language": "python",
   "name": "python3"
  },
  "language_info": {
   "codemirror_mode": {
    "name": "ipython",
    "version": 3
   },
   "file_extension": ".py",
   "mimetype": "text/x-python",
   "name": "python",
   "nbconvert_exporter": "python",
   "pygments_lexer": "ipython3",
   "version": "3.6.1"
  }
 },
 "nbformat": 4,
 "nbformat_minor": 2
}
